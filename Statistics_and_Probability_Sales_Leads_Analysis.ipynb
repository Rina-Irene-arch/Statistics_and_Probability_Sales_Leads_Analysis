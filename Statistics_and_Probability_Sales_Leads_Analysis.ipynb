{
 "cells": [
  {
   "cell_type": "markdown",
   "metadata": {},
   "source": [
    "# STATISTICS AND PROBABILITY SALES LEADS ANALYSIS"
   ]
  },
  {
   "cell_type": "markdown",
   "metadata": {},
   "source": [
    "# <a id=\"index\">Table of Contents:</a>  \n",
    "\n",
    "[Data Description](#data_description)<br>\n",
    "1. [Question 1](#q_1)<br>\n",
    "    1.01 [Probability: task 1](#probability_task_1)<br>\n",
    "    1.02 [Probability: task 2](#probability_task_2)<br>\n",
    "    1.03 [Combinatorics & Joint distribution: task 1](#combinatorics_&_joint-distribution_task_1)<br>\n",
    "    1.04 [Combinatorics & Joint distribution: task 2](#combinatorics_&_joint-distribution_task_2)<br>\n",
    "    1.05 [Combinatorics & Joint distribution: task 3](#combinatorics_&_joint-distribution_task_3)<br>\n",
    "    1.06 [Conditional probability: task 1](#conditional_probability_task_1)<br>\n",
    "    1.07 [Conditional probability: task 2](#conditional_probability_task_2)<br>\n",
    "    1.08 [Statistical tests – Chi square for independence: task 1](#statistical_tests_chi_square_for_independence_task_1)<br>\n",
    "    1.09 [Random variables & CLT: task 1](#random_variables_&_clt_task_1)<br>\n",
    "    1.10 [Random variables & CLT: task 2](#random_variables_&_clt_task_2)<br>\n",
    "    1.11 [Random variables & CLT: task 3](#random_variables_&_clt_task_3)<br>\n",
    "    1.12 [Random variables & CLT: task 4](#random_variables_&_clt_task_4)<br>\n",
    "    1.13 [Random variables & CLT: task 5](#random_variables_&_clt_task_5)<br>\n",
    "    1.14 [Random variables & CLT: task 6](#random_variables_&_clt_task_6)<br>\n",
    "2. [Question 2](#q_2)<br>\n",
    "    2.01 [Simulation: task 1](#simulation_task_1)<br>\n",
    "    2.02 [Simulation: task 2](#simulation_task_2)<br>\n",
    "    2.03 [Simulation: task 3](#simulation_task_3)<br>\n",
    "3. [Question 3](#q_3)<br>\n",
    "    3.01 [Time series & A/B Testing: task 1](#time-series_&_ab_testing_task_1)<br>\n",
    "    3.02 [Time series & A/B Testing: task 2](#time-series_&_ab_testing_task_2)<br>\n",
    "    3.03 [Time series & A/B Testing: task 3](#time-series_&_ab_testing_task_3)<br>\n",
    "    3.04 [Time series & A/B Testing: task 4](#time-series_&_ab_testing_task_4)<br>\n",
    "    3.05 [Time series & A/B Testing: task 5](#time-series_&_ab_testing_task_5)<br>\n",
    "    3.06 [Time series & A/B Testing: task 6](#time-series_&_ab_testing_task_6)<br>"
   ]
  },
  {
   "cell_type": "markdown",
   "metadata": {},
   "source": [
    "# <a id=\"data_description\">Data Description</a> <font size='3'>[[Table of contents🔝]](#index)]<font size>\n",
    "    \n",
    "A company has recently launched a new health insurance product.\n",
    "The product has been sold for a few months now.\n",
    "The marketing director wishes to examine the company’s sales performance thus far.\n",
    "You work as a data research analyst in the marketing department.\n",
    "The director asked you to analyze data from 10,000 sales leads.\n",
    "You have gathered the data in the “SALES DATA” sheet, which contains the following parameters:\n",
    "- ID – a unique identifier of each customer\n",
    "- AGE GROUP – the age group of the customer\n",
    "- CHANNEL OF SALE – either “internet” or “phone”, depending on where the\n",
    "customers left their contact details\n",
    "- SALES – an indicator variable (1 – successful sale, 0 – unsuccessful sale)\n",
    "    "
   ]
  },
  {
   "cell_type": "markdown",
   "metadata": {},
   "source": [
    "# 1. <a id=\"q_1\">Question 1</a> <font size='3'>[[Table of contents🔝]](#index)]<font size>"
   ]
  },
  {
   "cell_type": "markdown",
   "metadata": {},
   "source": [
    "## 1.01 <a id=\"probability_task_1\">Probability: task 1</a> <font size='3'>[[Table of contents🔝]](#index)]<font size>\n",
    "\n",
    "### Calculate the probability distribution function (PDF) of the 10,000 leads by AGE GROUP and by CHANNEL OF SALE separately (present your findings as the percent of each group out of 10,000)\n",
    "\n",
    "Guidance:<br>\n",
    "- You are calculating the probability distribution function of your customers belonging to each sub-category of a variable\n",
    "- The probability distribution function should sum up to 100% (or 1)\n",
    "- The probability of each sub-category should be calculated as the number of “wanted” outcomes (e.g. the number of people who have an “internet” sales channel) divided by the number of “possible” outcomes (the total number of leads) – מצוי חלקי רצוי \n"
   ]
  },
  {
   "cell_type": "code",
   "execution_count": 11,
   "metadata": {},
   "outputs": [
    {
     "data": {
      "text/html": [
       "<div>\n",
       "<style scoped>\n",
       "    .dataframe tbody tr th:only-of-type {\n",
       "        vertical-align: middle;\n",
       "    }\n",
       "\n",
       "    .dataframe tbody tr th {\n",
       "        vertical-align: top;\n",
       "    }\n",
       "\n",
       "    .dataframe thead th {\n",
       "        text-align: right;\n",
       "    }\n",
       "</style>\n",
       "<table border=\"1\" class=\"dataframe\">\n",
       "  <thead>\n",
       "    <tr style=\"text-align: right;\">\n",
       "      <th></th>\n",
       "      <th>Unnamed: 0</th>\n",
       "      <th>ID</th>\n",
       "      <th>AGE GROUP</th>\n",
       "      <th>CHANNEL OF SALE</th>\n",
       "      <th>SALES</th>\n",
       "    </tr>\n",
       "  </thead>\n",
       "  <tbody>\n",
       "    <tr>\n",
       "      <th>5992</th>\n",
       "      <td>5993</td>\n",
       "      <td>427929040</td>\n",
       "      <td>26-35</td>\n",
       "      <td>phone</td>\n",
       "      <td>0</td>\n",
       "    </tr>\n",
       "    <tr>\n",
       "      <th>3521</th>\n",
       "      <td>3522</td>\n",
       "      <td>873403255</td>\n",
       "      <td>46-55</td>\n",
       "      <td>phone</td>\n",
       "      <td>0</td>\n",
       "    </tr>\n",
       "    <tr>\n",
       "      <th>1541</th>\n",
       "      <td>1542</td>\n",
       "      <td>768983202</td>\n",
       "      <td>26-35</td>\n",
       "      <td>internet</td>\n",
       "      <td>0</td>\n",
       "    </tr>\n",
       "    <tr>\n",
       "      <th>8699</th>\n",
       "      <td>8700</td>\n",
       "      <td>127461263</td>\n",
       "      <td>18-25</td>\n",
       "      <td>phone</td>\n",
       "      <td>1</td>\n",
       "    </tr>\n",
       "    <tr>\n",
       "      <th>3637</th>\n",
       "      <td>3638</td>\n",
       "      <td>351586024</td>\n",
       "      <td>56+</td>\n",
       "      <td>phone</td>\n",
       "      <td>1</td>\n",
       "    </tr>\n",
       "  </tbody>\n",
       "</table>\n",
       "</div>"
      ],
      "text/plain": [
       "      Unnamed: 0         ID AGE GROUP CHANNEL OF SALE  SALES\n",
       "5992        5993  427929040     26-35           phone      0\n",
       "3521        3522  873403255     46-55           phone      0\n",
       "1541        1542  768983202     26-35        internet      0\n",
       "8699        8700  127461263     18-25           phone      1\n",
       "3637        3638  351586024       56+           phone      1"
      ]
     },
     "execution_count": 11,
     "metadata": {},
     "output_type": "execute_result"
    }
   ],
   "source": [
    "# Import necessary library\n",
    "import pandas as pd\n",
    "\n",
    "# Loading the uploaded CSV file\n",
    "file_path = 'DRA Final Assignment Data.csv'\n",
    "sales_data = pd.read_csv(file_path)\n",
    "\n",
    "# Displaying the sample 5 rows of the data to understand its structure\n",
    "sales_data.sample(5)"
   ]
  },
  {
   "cell_type": "code",
   "execution_count": 12,
   "metadata": {},
   "outputs": [
    {
     "data": {
      "text/plain": [
       "(26-35    30.77\n",
       " 36-45    27.26\n",
       " 46-55    15.66\n",
       " 56+      13.94\n",
       " 18-25    12.37\n",
       " Name: AGE GROUP, dtype: float64,\n",
       " phone       51.36\n",
       " internet    48.64\n",
       " Name: CHANNEL OF SALE, dtype: float64)"
      ]
     },
     "execution_count": 12,
     "metadata": {},
     "output_type": "execute_result"
    }
   ],
   "source": [
    "# Cleaning the data by removing the 'Unnamed: 0' column, since it's not needed\n",
    "sales_data_cleaned = sales_data.drop(columns=['Unnamed: 0'])\n",
    "\n",
    "# Calculating the PDF by AGE GROUP and CHANNEL OF SALE separately\n",
    "# Group by AGE GROUP and CHANNEL OF SALE and calculate the count of each category\n",
    "age_group_distribution = sales_data_cleaned['AGE GROUP'].value_counts(normalize=True) * 100\n",
    "channel_distribution = sales_data_cleaned['CHANNEL OF SALE'].value_counts(normalize=True) * 100\n",
    "\n",
    "# Displaying the two distributions\n",
    "age_group_distribution, channel_distribution"
   ]
  },
  {
   "cell_type": "markdown",
   "metadata": {},
   "source": [
    "### Answer:\n",
    "Probability distribution functions (PDFs) for the 10,000 leads, presented as percentages:\n",
    "\n",
    "**By AGE GROUP:**\n",
    "- 26-35: 30.77%\n",
    "- 36-45: 27.26%\n",
    "- 46-55: 15.66%\n",
    "- 56+: 13.94%\n",
    "- 18-25: 12.37%\n",
    "\n",
    "**By CHANNEL OF SALE:**\n",
    "- Phone: 51.36%\n",
    "- Internet: 48.64%    "
   ]
  },
  {
   "cell_type": "markdown",
   "metadata": {},
   "source": [
    "## 1.02 <a id=\"probability_task_2\">Probability: task 2</a> <font size='3'>[[Table of contents🔝]](#index)]<font size>\n",
    "    \n",
    "### Plot the probability distribution function (PDF) for AGE GROU\n",
    "\n",
    "Guidance: <br>\n",
    "- Create a bar-plot for each of the 5 sub-categories of AGE GROUP    "
   ]
  },
  {
   "cell_type": "code",
   "execution_count": 13,
   "metadata": {
    "scrolled": false
   },
   "outputs": [
    {
     "data": {
      "image/png": "[encoded data removed]",
      "text/plain": [
       "<Figure size 576x432 with 1 Axes>"
      ]
     },
     "metadata": {
      "needs_background": "light"
     },
     "output_type": "display_data"
    }
   ],
   "source": [
    "# Import necessary library\n",
    "import matplotlib.pyplot as plt # used for plotting the distributions\n",
    "\n",
    "# Reorder the age groups in ascending order\n",
    "age_group_order = ['18-25', '26-35', '36-45', '46-55', '56+']\n",
    "\n",
    "# Sorting the distribution by age group order\n",
    "age_group_distribution = age_group_distribution.reindex(age_group_order)\n",
    "\n",
    "# Plotting the PDF for AGE GROUP as a bar plot\n",
    "plt.figure(figsize=(8, 6))\n",
    "age_group_distribution.plot(kind='bar', color='skyblue')\n",
    "\n",
    "# Adding titles and labels\n",
    "plt.title('Probability Distribution Function (PDF) by AGE GROUP')\n",
    "plt.xlabel('Age Group')\n",
    "plt.ylabel('Percentage (%)')\n",
    "\n",
    "# Displaying values on the bars\n",
    "for i, v in enumerate(age_group_distribution):\n",
    "    plt.text(i, v + 0.5, f\"{v:.1f}\", ha='center')\n",
    "    \n",
    "# Displaying the plot\n",
    "plt.xticks(rotation=45)\n",
    "plt.show()"
   ]
  },
  {
   "cell_type": "markdown",
   "metadata": {},
   "source": [
    "### Insights\n",
    "- The age group 26-35 has the highest percentage of leads, making up 30.8% of the total leads. This indicates that the majority of people showing interest in the new health insurance product belong to this age range.\n",
    "- The 36-45 age group is the second largest segment, comprising 27.3% of the total leads.\n",
    "\n",
    "### Conclusion\n",
    "- The plot suggests that **middle-aged individuals (between 26-45 years old)** are the primary focus for the company, either due to marketing targeting, product relevance, or interest in health insurance products in general."
   ]
  },
  {
   "cell_type": "markdown",
   "metadata": {},
   "source": [
    "## 1.03 <a id=\"combinatorics_&_joint-distribution_task_1\">Combinatorics & Joint distribution: task 1\n",
    "    \n",
    "### How many combinations of AGE GROUP and CHANNEL OF SALE do you expect to see \n",
    "    \n",
    "Guidance: <br> \n",
    "- Use combinatorics, think of a multi-stage experiment and the number of options at each stage   \n"
   ]
  },
  {
   "cell_type": "markdown",
   "metadata": {},
   "source": [
    "### Answer\n",
    "\n",
    "Determining the number of combinations of AGE GROUP and CHANNEL OF SALE using combinatorics: \n",
    "\n",
    "This is a multi-stage experiment where\n",
    "- There are 5 possible AGE GROUPS:\n",
    "    - 18-25, 26-35, 36-45, 46-55, 56+\n",
    "- There are 2 possible CHANNELS OF SALE:\n",
    "    - Internet, Phone\n",
    "\n",
    "Since each AGE GROUP can pair with each CHANNEL OF SALE, the total number of combinations is: \n",
    "\n",
    "$$\n",
    "Total\\ combinations=5×2=10\n",
    "$$\n",
    "\n",
    "We expect to see **10 different combinations of AGE GROUP and CHANNEL OF SALE**."
   ]
  },
  {
   "cell_type": "markdown",
   "metadata": {},
   "source": [
    "## 1.04 <a id=\"combinatorics_&_joint-distribution_task_2\">Combinatorics & Joint distribution: task 2</a> <font size='3'>[[Table of contents🔝]](#index)]<font size>\n",
    "\n",
    "### Calculate the joint distribution of leads by AGE GROUP and CHANNEL OF SALE  \n",
    "\n",
    "Guidance:<br>\n",
    "- The joint distribution is the intersection between AGE GROUP and CHANNEL OF SALE\n",
    "- The number of different combinations for which you will calculate the joint distribution is determined by your answer to the previous section<BR>\n",
    "For example to calculate the joint probability of AGE GROUP = 18-25 AND CHANNEL OF SALE = “phone”, you will count the number of customers who are both 18-25 and contacted the\n",
    "company via “phone”, then divide by the total number of leads\n",
    "- The joint probability should also add up to 100% (or 1)    "
   ]
  },
  {
   "cell_type": "code",
   "execution_count": 14,
   "metadata": {},
   "outputs": [
    {
     "data": {
      "text/plain": [
       "AGE GROUP  CHANNEL OF SALE\n",
       "18-25      internet            9.99\n",
       "           phone               2.38\n",
       "26-35      internet           24.63\n",
       "           phone               6.14\n",
       "36-45      internet            6.54\n",
       "           phone              20.72\n",
       "46-55      internet            3.97\n",
       "           phone              11.69\n",
       "56+        internet            3.51\n",
       "           phone              10.43\n",
       "dtype: float64"
      ]
     },
     "execution_count": 14,
     "metadata": {},
     "output_type": "execute_result"
    }
   ],
   "source": [
    "# Calculating the joint distribution of leads by AGE GROUP and CHANNEL OF SALE\n",
    "joint_distribution = sales_data_cleaned.groupby(['AGE GROUP', 'CHANNEL OF SALE']).size() / len(sales_data_cleaned) * 100\n",
    "\n",
    "# Displaying the joint distribution\n",
    "joint_distribution"
   ]
  },
  {
   "cell_type": "markdown",
   "metadata": {},
   "source": [
    "### Answer\n",
    "Here is the joint distribution of leads by AGE GROUP and CHANNEL OF SALE:\n",
    "\n",
    "18-25:\n",
    "- Internet: 9.99%\n",
    "- Phone: 2.38%\n",
    "\n",
    "26-35:\n",
    "- Internet: 24.63%\n",
    "- Phone: 6.14%\n",
    "\n",
    "36-45:\n",
    "- Internet: 6.54%\n",
    "- Phone: 20.72%\n",
    "\n",
    "46-55:\n",
    "- Internet: 3.97%\n",
    "- Phone: 11.69%\n",
    "\n",
    "56+:\n",
    "- Internet: 3.51%\n",
    "- Phone: 10.43%"
   ]
  },
  {
   "cell_type": "markdown",
   "metadata": {},
   "source": [
    "## 1.05 <a id=\"combinatorics_&_joint-distribution_task_3\">Combinatorics & Joint distribution: task 3</a> <font size='3'>[[Table of contents🔝]](#index)]<font size>\n",
    "    \n",
    "### Plot the distribution by AGE GROUP for each CHANNEL OF SALE separately \n",
    "    \n",
    "Guidance:<br>\n",
    "- Separate your dataset into two sections, for each CHANNEL OF SALE, then create a bar-plot of the probability distribution by AGE GROUP for each of the sections\n",
    "    \n",
    "### Answer        "
   ]
  },
  {
   "cell_type": "code",
   "execution_count": 15,
   "metadata": {},
   "outputs": [
    {
     "data": {
      "image/png": "[encoded data removed]",
      "text/plain": [
       "<Figure size 720x432 with 2 Axes>"
      ]
     },
     "metadata": {
      "needs_background": "light"
     },
     "output_type": "display_data"
    }
   ],
   "source": [
    "# Separate the dataset into two sections for each CHANNEL OF SALE\n",
    "internet_data = sales_data_cleaned[sales_data_cleaned['CHANNEL OF SALE'] == 'internet']\n",
    "phone_data = sales_data_cleaned[sales_data_cleaned['CHANNEL OF SALE'] == 'phone']\n",
    "\n",
    "# Calculating the PDF by AGE GROUP for each CHANNEL OF SALE\n",
    "internet_age_group_distribution = internet_data['AGE GROUP'].value_counts(normalize=True) * 100\n",
    "phone_age_group_distribution = phone_data['AGE GROUP'].value_counts(normalize=True) * 100\n",
    "\n",
    "# Sorting the distributions by the defined age group order\n",
    "internet_age_group_distribution = internet_age_group_distribution.reindex(age_group_order)\n",
    "phone_age_group_distribution = phone_age_group_distribution.reindex(age_group_order)\n",
    "\n",
    "# Plot the distribution by AGE GROUP for each CHANNEL OF SALE in ascending order\n",
    "\n",
    "# Plot for Internet\n",
    "plt.figure(figsize=(10, 6))\n",
    "plt.subplot(1, 2, 1)\n",
    "internet_age_group_distribution.plot(kind='bar', color='skyblue')\n",
    "plt.title('Distribution by AGE GROUP (Internet)')\n",
    "plt.xlabel('Age Group')\n",
    "plt.ylabel('Percentage (%)')\n",
    "plt.xticks(rotation=45)\n",
    "\n",
    "# Plot for Phone\n",
    "plt.subplot(1, 2, 2)\n",
    "phone_age_group_distribution.plot(kind='bar', color='lightgreen')\n",
    "plt.title('Distribution by AGE GROUP (Phone)')\n",
    "plt.xlabel('Age Group')\n",
    "plt.ylabel('Percentage (%)')\n",
    "plt.xticks(rotation=45)\n",
    "\n",
    "# Show the plots\n",
    "plt.tight_layout()\n",
    "plt.show()\n"
   ]
  },
  {
   "cell_type": "markdown",
   "metadata": {},
   "source": [
    "### Insights\n",
    "\n",
    "\n",
    "**Internet Sales:**\n",
    "- The majority of internet sales leads come from the 26-35 age group, which makes up over 50%.\n",
    "\n",
    "**Phone Sales:**\n",
    "- Phone sales are more evenly distributed among several age groups.\n",
    "- The largest group is 36-45, with over 40%, followed by the 46-55 and 56+ groups, which together account for a significant portion of phone sales."
   ]
  },
  {
   "cell_type": "markdown",
   "metadata": {},
   "source": [
    "## 1.06 <a id=\"conditional_probability_task_1\">Conditional probability: task 1</a> <font size='3'>[[Table of contents🔝]](#index)]<font size>\n",
    "    \n",
    "### Given that a person belongs to a specific age group, calculate the probability that they will choose to use each CHANNEL OF SALE\n",
    "    \n",
    "Guidance:<br>\n",
    "- A conditional probability is calculated as the joint probability divided by the probability of the (הסתברות משותפת חלקי ההסתברות של התנאי) condition\n",
    "- You can use your previous calculations of the joint probability function of AGE GROUP and\n",
    "CHANNEL OF SALE combined with the probability function for AGE GROUP\n",
    "    \n",
    "    \n",
    "### Answer"
   ]
  },
  {
   "cell_type": "code",
   "execution_count": 16,
   "metadata": {},
   "outputs": [
    {
     "data": {
      "text/html": [
       "<div>\n",
       "<style scoped>\n",
       "    .dataframe tbody tr th:only-of-type {\n",
       "        vertical-align: middle;\n",
       "    }\n",
       "\n",
       "    .dataframe tbody tr th {\n",
       "        vertical-align: top;\n",
       "    }\n",
       "\n",
       "    .dataframe thead th {\n",
       "        text-align: right;\n",
       "    }\n",
       "</style>\n",
       "<table border=\"1\" class=\"dataframe\">\n",
       "  <thead>\n",
       "    <tr style=\"text-align: right;\">\n",
       "      <th></th>\n",
       "      <th>P(Internet | Age)</th>\n",
       "      <th>P(Phone | Age)</th>\n",
       "    </tr>\n",
       "  </thead>\n",
       "  <tbody>\n",
       "    <tr>\n",
       "      <th>18-25</th>\n",
       "      <td>0.807599</td>\n",
       "      <td>0.192401</td>\n",
       "    </tr>\n",
       "    <tr>\n",
       "      <th>26-35</th>\n",
       "      <td>0.800455</td>\n",
       "      <td>0.199545</td>\n",
       "    </tr>\n",
       "    <tr>\n",
       "      <th>36-45</th>\n",
       "      <td>0.239912</td>\n",
       "      <td>0.760088</td>\n",
       "    </tr>\n",
       "    <tr>\n",
       "      <th>46-55</th>\n",
       "      <td>0.253512</td>\n",
       "      <td>0.746488</td>\n",
       "    </tr>\n",
       "    <tr>\n",
       "      <th>56+</th>\n",
       "      <td>0.251793</td>\n",
       "      <td>0.748207</td>\n",
       "    </tr>\n",
       "  </tbody>\n",
       "</table>\n",
       "</div>"
      ],
      "text/plain": [
       "       P(Internet | Age)  P(Phone | Age)\n",
       "18-25           0.807599        0.192401\n",
       "26-35           0.800455        0.199545\n",
       "36-45           0.239912        0.760088\n",
       "46-55           0.253512        0.746488\n",
       "56+             0.251793        0.748207"
      ]
     },
     "execution_count": 16,
     "metadata": {},
     "output_type": "execute_result"
    }
   ],
   "source": [
    "# CalculatING the conditional probabilities for each age group and both channels of sale.\n",
    "# The formula is P(channel of sale | age group) = P(channel of sale and age group) / P(age group)\n",
    "\n",
    "# Creating a function to calculate conditional probabilities for all age groups\n",
    "def calculate_conditional_probabilities(joint_distribution, age_group_distribution):\n",
    "    conditional_probabilities = {}\n",
    "    for age_group in age_group_distribution.index:\n",
    "        P_age = age_group_distribution[age_group]\n",
    "        P_internet_given_age = joint_distribution[(age_group, 'internet')] / P_age\n",
    "        P_phone_given_age = joint_distribution[(age_group, 'phone')] / P_age\n",
    "        conditional_probabilities[age_group] = {\n",
    "            'P(Internet | Age)': P_internet_given_age,\n",
    "            'P(Phone | Age)': P_phone_given_age\n",
    "        }\n",
    "    # The .T at the end transposes the DataFrame: rows and columns are swapped:\n",
    "    # rows represent an age group, and columns represent the probabilities of Internet or Phone channels.    \n",
    "    return pd.DataFrame(conditional_probabilities).T\n",
    "\n",
    "# Calculating the conditional probabilities for all age groups\n",
    "conditional_probabilities = calculate_conditional_probabilities(joint_distribution, age_group_distribution)\n",
    "\n",
    "# Sorting by the defined age group order\n",
    "conditional_probabilities = conditional_probabilities.reindex(age_group_order)\n",
    "\n",
    "# Displaying the results\n",
    "conditional_probabilities"
   ]
  },
  {
   "cell_type": "markdown",
   "metadata": {},
   "source": [
    "## 1.07 <a id=\"conditional_probability_task_2\">Conditional probability: task 2</a> <font size='3'>[[Table of contents🔝]](#index)]<font size>\n",
    "    \n",
    "### Comment on your results – is there a recommendation regarding the CHANNEL OF SALE preference of each group that you can give?\n",
    "\n",
    "Guidance: <br>\n",
    "- Comment on the distribution of channel of sale for each age group – are there differences or similarities that the marketing department should be aware of?\n",
    "- Contrast it with the probability distribution function of CHANNEL OF SALE \n",
    "    \n",
    "    \n",
    "### Answer\n",
    "    \n",
    "The conditional probabilities highlight some important differences and similarities across age groups when it comes to the choice of the CHANNEL OF SALE (Internet vs. Phone):\n",
    "\n",
    "#### Differences and Similarities by Age Group:\n",
    "- **18-25 and 26-35 Age Groups**:\n",
    "    - Both age groups show a strong preference for the Internet channel, with over 80%. This indicates that younger customers are significantly more likely to use the Internet, making digital marketing an effective strategy for targeting them.<br>\n",
    "\n",
    "    \n",
    "- **36-45, 46-55, and 56+ Age Groups**:\n",
    "    - These groups show a clear preference for the Phone channel with probability over 74% for customers aged 36 and older, with the highest being for the 36-45 age group (76%).\n",
    "This suggests that older customers tend to prefer phone calls to interacts with the company.\n",
    "\n",
    "#### Contrast with the Overall Probability Distribution of Channel of Sale:\n",
    "- In the overall distribution, the Phone channel accounts for 51.36% of leads, and the Internet channel makes up 48.64%. However, there is significant difference in preferences based on age: the younger customers (18-35) overwhelmingly prefer the Internet, while older customers (36+) prefer the Phone.\n",
    "\n",
    "#### Key Marketing Takeaway:\n",
    "The marketing department should use tailored approaches to engage different age groups effectively.    \n",
    "- **Digital Focus**: For younger demographics (under 35), online channels, such as email campaigns, social media ads, and website optimization, should be the main focus.\n",
    "- **Traditional Outreach**: For older demographics, telemarketing or direct phone outreach should be emphasized, as they are much more likely to prefer this method of communication."
   ]
  },
  {
   "cell_type": "markdown",
   "metadata": {},
   "source": [
    "## 1.08 <a id=\"statistical_tests_chi_square_for_independence_task_1\">Statistical tests – Chi square for independence: task 1</a> <font size='3'>[[Table of contents🔝]](#index)]<font size>\n",
    "    \n",
    "The company wishes to examine the dependence/independence between the choice of CHANNEL OF SALE and the SALES indicator\n",
    "    \n",
    "#### Perform a Chi square test of independence between CHANNEL OF SALE and the SALES indicator\n",
    "- **What are the null and alternative hypotheses of this test?**\n",
    "- **Calculate the P-value of the test and state your conclusion at a 5% significance level and at a 1% significance level**  \n",
    "  \n",
    "Guidance:<br>\n",
    "- Create a 2x2 table depicting CHANNEL OF SALE in rows and SALES in columns – the table should present COUNTS of people belonging to each combination (these are your observed values)\n",
    "- Calculate total counts for rows and columns \n",
    "- Calculate your expected values (total in row * total in column / overall total)\n",
    "- Tip: use the CHITEST function\n",
    "    \n",
    "### Answer   "
   ]
  },
  {
   "cell_type": "code",
   "execution_count": 17,
   "metadata": {},
   "outputs": [
    {
     "data": {
      "text/plain": [
       "(SALES               0     1\n",
       " CHANNEL OF SALE            \n",
       " internet         2350  2514\n",
       " phone            2371  2765,\n",
       " 0.03297940233174122)"
      ]
     },
     "execution_count": 17,
     "metadata": {},
     "output_type": "execute_result"
    }
   ],
   "source": [
    "# Import necessary library\n",
    "from scipy.stats import chi2_contingency\n",
    "\n",
    "# Performing a chi-square test of independence between CHANNEL OF SALE and SALES\n",
    "# Create a contingency table\n",
    "# count the occurrences of each combination of CHANNEL OF SALE and SALES\n",
    "contingency_table = pd.crosstab(sales_data_cleaned['CHANNEL OF SALE'], sales_data_cleaned['SALES'])\n",
    "\n",
    "# Performing the chi-square test\n",
    "# chi2: measures the difference between observed and expected counts\n",
    "# p-value: considers if association between the variables is statistically significant.\n",
    "# dof: Degrees of freedom of the test\n",
    "# expected: counts if there was no association between the variables\n",
    "chi2, p_value, dof, expected = chi2_contingency(contingency_table)\n",
    "\n",
    "# Displaying the contingency table and the p-value\n",
    "contingency_table, p_value\n"
   ]
  },
  {
   "cell_type": "markdown",
   "metadata": {},
   "source": [
    "Here are the results of the Chi-square test of independence between CHANNEL OF SALE and SALES:\n",
    "\n",
    "### Contingency Table (Observed Counts):\n",
    "\n",
    "- **Internet Sales:**\n",
    "    - Unsuccessful (0): 2350\n",
    "    - Successful (1): 2514\n",
    "- **Phone Sales:**\n",
    "    - Unsuccessful (0): 2371\n",
    "    - Successful (1): 2765\n",
    "- **P-value:** 0.03298\n",
    "\n",
    "### Interpretation:\n",
    "- **Null Hypothesis (H0)**: There is no association between the CHANNEL OF SALE and the SALES outcome (they are independent).\n",
    "- **Alternative Hypothesis (H1)**: There is an association between the CHANNEL OF SALE and the SALES outcome (they are not independent).\n",
    "<br>\n",
    "<br>\n",
    "- **At a 5% significance level**, since the p-value (0.03298) is less than 0.05, we reject the null hypothesis. This suggests that there is a statistically significant association between the CHANNEL OF SALE and the SALES outcome.\n",
    "- **At a 1% significance level**, however, the p-value is greater than 0.01, so we fail to reject the null hypothesis. Thus, at this level, there is not enough evidence to conclude a significant association."
   ]
  },
  {
   "cell_type": "markdown",
   "metadata": {},
   "source": [
    "## 1.09 <a id=\"random_variables_&_clt_task_1\">Random variables & CLT: task 1</a> <font size='3'>[[Table of contents🔝]](#index)]<font size>\n",
    "    \n",
    "The company wishes to calculate its expected profit:\n",
    "- It spends 45\\$ on acquiring each sales lead\n",
    "- Price of each sale is 86\\$\n",
    "    \n",
    "#### Calculate the minimal number of sales (out of 10,000 leads) required to make a profit \n",
    "    \n",
    "Guidance:<br>\n",
    "- You may solve this as an equation:\n",
    "- PROFIT = NUMBER OF SALES x PRICE OF SALE – TOTAL LEADS x COST PER LEAD > 0\n",
    "- Where only the number of sales is unknown\n",
    "- Alternatively, you may calculate the profit for each possible number of sales and locate the first positive value"
   ]
  },
  {
   "cell_type": "code",
   "execution_count": 18,
   "metadata": {},
   "outputs": [
    {
     "data": {
      "text/plain": [
       "5232.558139534884"
      ]
     },
     "execution_count": 18,
     "metadata": {},
     "output_type": "execute_result"
    }
   ],
   "source": [
    "# Defining variables\n",
    "cost_per_lead = 45  # Cost per lead in dollars\n",
    "price_per_sale = 86  # Price of each sale in dollars\n",
    "total_leads = 10000 # Total number of sales\n",
    "\n",
    "# The profit equation:\n",
    "# Profit = (Number of sales * Price per sale) - (Total leads * Cost per lead)\n",
    "\n",
    "# Finding the minimum number of sales where profit > 0.\n",
    "# Set up the equation: Profit = 0\n",
    "# Number of sales * Price per sale = Total leads * Cost per lead\n",
    "\n",
    "min_sales_required = (total_leads * cost_per_lead) / price_per_sale\n",
    "\n",
    "# Calculating the minimum number of sales required to make a profit\n",
    "min_sales_required"
   ]
  },
  {
   "cell_type": "markdown",
   "metadata": {},
   "source": [
    "## Answer\n",
    "The minimum number of sales required to make a profit is approximately 5233 sales (out of 10,000 leads).<br> \n",
    "At this point, the company's revenue from sales will exceed the total cost of acquiring the leads. "
   ]
  },
  {
   "cell_type": "markdown",
   "metadata": {},
   "source": [
    "## 1.10 <a id=\"random_variables_&_clt_task_2\">Random variables & CLT: task 2</a> <font size='3'>[[Table of contents🔝]](#index)]<font size>\n",
    "    \n",
    "The company decides to model the total amount of sales using a Binomial random variable\n",
    "- Where n=10,000\n",
    "- And p is estimated from the SALES column \n",
    "\n",
    "#### Estimate the value of p  \n",
    "Guidance:<br>\n",
    "- Estimate p as the proportion of sales out of total sales leads\n",
    "- Count how many sales there were, and divide by the total number of leads    "
   ]
  },
  {
   "cell_type": "code",
   "execution_count": 19,
   "metadata": {},
   "outputs": [
    {
     "data": {
      "text/plain": [
       "0.5279"
      ]
     },
     "execution_count": 19,
     "metadata": {},
     "output_type": "execute_result"
    }
   ],
   "source": [
    "# Estimating the value of p as the proportion of successful sales out of total sales leads\n",
    "total_sales = sales_data_cleaned['SALES'].sum()\n",
    "total_leads = len(sales_data_cleaned)\n",
    "\n",
    "# Calculating p\n",
    "p_estimate = total_sales / total_leads\n",
    "\n",
    "p_estimate"
   ]
  },
  {
   "cell_type": "markdown",
   "metadata": {},
   "source": [
    "### Answer\n",
    "\n",
    "The estimated value of p, which represents the proportion of successful sales out of the total leads, is 0.5279.<br> \n",
    "This means that approximately 52.79% of the leads result in successful sales."
   ]
  },
  {
   "cell_type": "markdown",
   "metadata": {},
   "source": [
    "## 1.11 <a id=\"random_variables_&_clt_task_3\">Random variables & CLT: task 3</a> <font size='3'>[[Table of contents🔝]](#index)]<font size>\n",
    "    \n",
    "#### Using the Binomial random variable, calculate the probability of the total amount of sales being smaller than the number required to make a profit \n",
    "    \n",
    "Guidance:<br>\n",
    "- Use the Binom.dist function\n",
    "- For each possible level of sales (0-10,000) – denoted by x, calculate the probability function: Binom.dist(x,n,p,0)\n",
    "- Make sure the column adds up to 1, as a sanity check\n",
    "- Sum over the probabilities where the profit value is negative (those smaller than the minimal number required to make a profit)"
   ]
  },
  {
   "cell_type": "code",
   "execution_count": 20,
   "metadata": {},
   "outputs": [
    {
     "name": "stdout",
     "output_type": "stream",
     "text": [
      "Probability of total sales being smaller than 5233: 0.1758\n"
     ]
    }
   ],
   "source": [
    "# Import necessary library\n",
    "from scipy.stats import binom # used to calculate the binomial distribution probability\n",
    "\n",
    "# Defining parameters for the binomial distribution\n",
    "n = 10000  # total number of leads\n",
    "p = 0.5279  # estimated probability of a successful sale (from previous calculation - see 1.10)\n",
    "\n",
    "# Minimum sales required to make a profit (from previous calculation - see 1.09)\n",
    "min_sales_required = 5233\n",
    "\n",
    "# Calculating the cumulative probability for sales less than the minimum required to make a profit\n",
    "prob_less_than_min_sales = binom.cdf(min_sales_required - 1, n, p)\n",
    "\n",
    "# Displaying the result\n",
    "print(f\"Probability of total sales being smaller than {min_sales_required}: {prob_less_than_min_sales:.4f}\")\n"
   ]
  },
  {
   "cell_type": "markdown",
   "metadata": {},
   "source": [
    "### Answer\n",
    "- There is a **17.58% chance** that the company will fail to make a profit from the 10,000 leads based on the estimated probability of a successful sale (52.79%).\n",
    "- In other words, while the company has a relatively good chance of turning a profit (around 82.42%), there is still a non-negligible risk (17.58%) that the sales will fall short of the profit threshold."
   ]
  },
  {
   "cell_type": "markdown",
   "metadata": {},
   "source": [
    "## 1.12 <a id=\"random_variables_&_clt_task_4\">Random variables & CLT: task 4</a> <font size='3'>[[Table of contents🔝]](#index)]<font size>\n",
    "    \n",
    "#### Using the Normal approximation of the Binomial random variable, calculate the same probability\n",
    "  \n",
    "Guidance:<br>\n",
    "- The CLT allows us to approximate the distribution of a SUM of random variables as a normal distribution\n",
    "- The Binomial distribution function is a SUM of independent & identically distributed Bernoulli random variables – therefore is eligible for use of the CLT\n",
    "- In this case you can approximate the Binomial distribution as a Normal distribution with:\n",
    "    - Mean = np\n",
    "    - Variance = np(1-p)\n",
    "- Use the Norms.dist function: Norms.dist(x, mean, standard deviation, 1)\n",
    "- Notice that the function required standard deviation and not variance    "
   ]
  },
  {
   "cell_type": "code",
   "execution_count": 21,
   "metadata": {},
   "outputs": [
    {
     "name": "stdout",
     "output_type": "stream",
     "text": [
      "Probability using normal approximation: 0.1784\n"
     ]
    }
   ],
   "source": [
    "# Import necessary library\n",
    "from scipy.stats import norm # # used to calculate normal distribution probability\n",
    "\n",
    "# Defining the parameters for the normal distribution approximation\n",
    "n = 10000  # total number of leads\n",
    "p = 0.5279  # estimated probability of a successful sale (from previous calculation - see 1.10)\n",
    "\n",
    "# Calculating mean and standard deviation\n",
    "mean = n * p  # mean for normal approximation - expected number of sales\n",
    "variance = n * p * (1 - p)  # variance for normal approximation\n",
    "std_dev = variance ** 0.5  # standard deviation - the square root of the variance\n",
    "\n",
    "# Minimum sales required to make a profit (from previous calculation - see 1.09)\n",
    "min_sales_required = 5233\n",
    "\n",
    "# Calculating the z-score for the minimum sales required\n",
    "z_score = (min_sales_required - mean) / std_dev\n",
    "\n",
    "# Calculating the probability using the normal distribution\n",
    "prob_less_than_min_sales_normal = norm.cdf(z_score)\n",
    "\n",
    "# Displaying the result\n",
    "print(f\"Probability using normal approximation: {prob_less_than_min_sales_normal:.4f}\")\n"
   ]
  },
  {
   "cell_type": "markdown",
   "metadata": {},
   "source": [
    "### Answer\n",
    "- Using the normal approximation (based on the Central Limit Theorem), there is a **17.84% chance** that the total number of sales will fall short of the 5233 threshold (see 1.09) needed to make a profit.\n",
    "- This result is very close to the 17.58% probability calculated using the exact binomial distribution, showing that the normal approximation provides a reasonable estimate for this scenario.\n",
    "- This further supports the idea that the company faces about a 17-18% risk of not reaching the break-even point in sales, based on the current success rate (52.79%)."
   ]
  },
  {
   "cell_type": "markdown",
   "metadata": {},
   "source": [
    "## 1.13 <a id=\"random_variables_&_clt_task_5\">Random variables & CLT: task 5</a> <font size='3'>[[Table of contents🔝]](#index)]<font size>\n",
    "    \n",
    "#### Plot the two distributions together – Binomial as bars, Normal as line (you may choose the Xaxis range which is best suitable for your plot). Comment on the appropriateness of the approximation\n",
    "    \n",
    "Guidance:<br>\n",
    "- The Binomial distribution is discrete and should be presented using a bar-plot\n",
    "- The Normal distribution is continuous and should be presented using a curve\n",
    "- Calculate Binom.dist(x,n,p,0) and Norms.dist(x, mean, standard deviation, 0) for each possible value of sales (make sure the probabilities in each column add up to 1)\n",
    "- You may plot them together for ease of comparison or separately"
   ]
  },
  {
   "cell_type": "code",
   "execution_count": 22,
   "metadata": {},
   "outputs": [
    {
     "data": {
      "image/png": "[encoded data removed]",
      "text/plain": [
       "<Figure size 720x432 with 1 Axes>"
      ]
     },
     "metadata": {
      "needs_background": "light"
     },
     "output_type": "display_data"
    }
   ],
   "source": [
    "# Import necessary library\n",
    "import numpy as np # used to generate a range of numbers for the x-axis\n",
    "\n",
    "# Defining the range of sales for the x-axis: \n",
    "# focusing on the range around the minimum sales required to make a profit \n",
    "# (which was 5233 from previous calculation - see 1.09)\n",
    "x_values = np.arange(4900, 5501)\n",
    "\n",
    "# Parameters\n",
    "n = 10000  # total number of leads\n",
    "p = 0.5279  # estimated probability of a successful sale (from previous calculation - see 1.10)\n",
    "mean = n * p  # mean for normal approximation - expected number of sales\n",
    "variance = n * p * (1 - p)  # variance for normal approximation\n",
    "std_dev = variance ** 0.5  # standard deviation - the square root of the variance\n",
    "\n",
    "# Calculating binomial distribution probabilities\n",
    "# probability mass function (pmf) calculates probability of achieving x successes in n trials, with success probability p\n",
    "binom_probs = binom.pmf(x_values, n, p)\n",
    "\n",
    "# Calculate normal distribution probabilities using the normal approximation\n",
    "# probability density function (pdf) calculates the relative likelihood of a particular number of sales \n",
    "# using mean and standard deviation \n",
    "normal_probs = norm.pdf(x_values, mean, std_dev)\n",
    "\n",
    "# Plot the binomial distribution as bars\n",
    "# Since the binomial distribution is discrete (there are fixed numbers of sales)\n",
    "plt.figure(figsize=(10, 6))\n",
    "# setting alpha for transparency to making normal curve visible\n",
    "plt.bar(x_values, binom_probs, alpha=0.6, label=\"Binomial Distribution\", color=\"blue\")\n",
    "\n",
    "# Plot the normal approximation as a curve\n",
    "# Since normal distribution is continuous, it's represented by a smooth curve.\n",
    "plt.plot(x_values, normal_probs, label=\"Normal Approximation\", color=\"red\")\n",
    "\n",
    "# Add labels and title\n",
    "plt.title(\"Binomial Distribution vs. Normal Approximation\")\n",
    "plt.xlabel(\"Number of Sales\")\n",
    "plt.ylabel(\"Probability\")\n",
    "plt.legend()\n",
    "\n",
    "# Show the plot\n",
    "plt.show()"
   ]
  },
  {
   "cell_type": "markdown",
   "metadata": {},
   "source": [
    "### Insights\n",
    "- **Binomial Distribution:** This is plotted as blue bars, representing the discrete probabilities for the number of sales.\n",
    "- **Normal Approximation:** This is plotted as a red curve, representing the continuous normal approximation to the binomial distribution.\n",
    "- The plot help to compare how well the normal approximation fits the binomial distribution. As typically, the approximation is quite accurate when the number of trials is large, as is the case here with 10,000 leads."
   ]
  },
  {
   "cell_type": "markdown",
   "metadata": {},
   "source": [
    "## 1.14 <a id=\"random_variables_&_clt_task_6\">Random variables & CLT: task 6</a> <font size='3'>[[Table of contents🔝]](#index)]<font size>\n",
    "    \n",
    "#### The risk manager said: “if we have 0 sales we will lose $450,000 which is very risky for a new product!”. Comment on his statement \n",
    "\n",
    "Guidance:<br>\n",
    "- What is the risk manager saying is correct? Is it **possible** to reach such a value? Is it **probable**?"
   ]
  },
  {
   "cell_type": "markdown",
   "metadata": {},
   "source": [
    "### Answer\n",
    "  \n",
    "To evaluate the risk manager’s statement regarding the potential loss of $450,000 if the company makes zero sales, it should be breaken down into the following points:<br>\n",
    "- 1. **Is the Statement Correct?**\n",
    "    - Cost Calculation: The company spends 45\\$ per lead, and with 10,000 leads, the total cost would indeed be:\n",
    "    \n",
    "      $$\n",
    "      Total Cost=10,000×45=450,000\n",
    "      $$\n",
    "      \n",
    "      If no sales are made, the company would lose the entire 450,000\\$ spent on acquiring the leads. Therefore, **the calculation is correct**.\n",
    "<br>      \n",
    "- 2. **Is it Possible to Make 0 Sales?**\n",
    "    - **Theoretically, it is possible**, though highly unlikely. In a binomial distribution, even the extreme case of 0 sales has some non-zero probability (because the binomial distribution accounts for all possibilities from 0 to 10,000 sales).\n",
    "- 3. **Is it Probable?**\n",
    "    - Calculating the probability of making zero sales using the binomial distribution, where:\n",
    "        - n = 10000 - total number of leads\n",
    "        - p = 0.5279 - estimated probability of a successful sale (from previous calculation - see 1.10)\n",
    "    - Using the binomial probability mass function (PMF) to calculate the probability of making 0 sales:<br>\n",
    "        The probability of making zero sales will be extremely close to zero, given the large number of leads (10,000) and the relatively high probability of success (52.79%). Therefore, while theoretically possible, it is **highly improbable**."
   ]
  },
  {
   "cell_type": "code",
   "execution_count": 23,
   "metadata": {},
   "outputs": [
    {
     "name": "stdout",
     "output_type": "stream",
     "text": [
      "Probability of making 0 sales: 0.0000000000\n"
     ]
    }
   ],
   "source": [
    "# Parameters\n",
    "n = 10000  # total number of leads\n",
    "p = 0.5279  # estimated probability of a successful sale (from previous calculation - see 1.10)\n",
    "\n",
    "# Calculate the probability of making 0 sales\n",
    "prob_zero_sales = binom.pmf(0, n, p)\n",
    "\n",
    "# Print the result\n",
    "print(f\"Probability of making 0 sales: {prob_zero_sales:.10f}\")"
   ]
  },
  {
   "cell_type": "markdown",
   "metadata": {},
   "source": [
    "# 2. <a id=\"q_2\">Question 2</a> <font size='3'>[[Table of contents🔝]](#index)]<font size>\n",
    "Use the sheet named “RAND” for the following questions:\n",
    "#### Simulation\n",
    "- The company decided to perform 100 simulations of its potential profit using a Binomial\n",
    "random variable (10,000 Bernoulli variables)\n",
    "- In the sheet “RAND” you will find 10000x100 random variables from a Uniform(0,1) distribution    \n"
   ]
  },
  {
   "cell_type": "markdown",
   "metadata": {},
   "source": [
    "## 2.01 <a id=\"simulation_task_1\">Simulation: task 1</a> <font size='3'>[[Table of contents🔝]](#index)]<font size>\n",
    "    \n",
    "#### Perform 100 simulations of the possible total profit under these 100 simulations\n",
    "- **Any number smaller than the estimator for p should be 1 (considered a sale), otherwise it should be 0 (considered no sale)**\n",
    "    \n",
    "Guidance:<br>\n",
    "- We want to simulate values in similar proportions to our original sample, where the sales proportion was p.\n",
    "- If we have these uniform (0,1) random variables, and for example p is 60%, if we decide that any number simulated which is smaller than 0.6 is considered as a sale, we are likely to get very similar proportions of sales\n",
    "- Tip: use IF conditions"
   ]
  },
  {
   "cell_type": "code",
   "execution_count": 24,
   "metadata": {
    "scrolled": true
   },
   "outputs": [
    {
     "data": {
      "text/html": [
       "<div>\n",
       "<style scoped>\n",
       "    .dataframe tbody tr th:only-of-type {\n",
       "        vertical-align: middle;\n",
       "    }\n",
       "\n",
       "    .dataframe tbody tr th {\n",
       "        vertical-align: top;\n",
       "    }\n",
       "\n",
       "    .dataframe thead th {\n",
       "        text-align: right;\n",
       "    }\n",
       "</style>\n",
       "<table border=\"1\" class=\"dataframe\">\n",
       "  <thead>\n",
       "    <tr style=\"text-align: right;\">\n",
       "      <th></th>\n",
       "      <th>1</th>\n",
       "      <th>2</th>\n",
       "      <th>3</th>\n",
       "      <th>4</th>\n",
       "      <th>5</th>\n",
       "      <th>6</th>\n",
       "      <th>7</th>\n",
       "      <th>8</th>\n",
       "      <th>9</th>\n",
       "      <th>10</th>\n",
       "      <th>...</th>\n",
       "      <th>91</th>\n",
       "      <th>92</th>\n",
       "      <th>93</th>\n",
       "      <th>94</th>\n",
       "      <th>95</th>\n",
       "      <th>96</th>\n",
       "      <th>97</th>\n",
       "      <th>98</th>\n",
       "      <th>99</th>\n",
       "      <th>100</th>\n",
       "    </tr>\n",
       "  </thead>\n",
       "  <tbody>\n",
       "    <tr>\n",
       "      <th>1</th>\n",
       "      <td>0.554052</td>\n",
       "      <td>0.537101</td>\n",
       "      <td>0.610676</td>\n",
       "      <td>0.780027</td>\n",
       "      <td>0.282432</td>\n",
       "      <td>0.569350</td>\n",
       "      <td>0.345501</td>\n",
       "      <td>0.016182</td>\n",
       "      <td>0.991382</td>\n",
       "      <td>0.493873</td>\n",
       "      <td>...</td>\n",
       "      <td>0.456432</td>\n",
       "      <td>0.826512</td>\n",
       "      <td>0.963538</td>\n",
       "      <td>0.258625</td>\n",
       "      <td>0.892340</td>\n",
       "      <td>0.610641</td>\n",
       "      <td>0.292406</td>\n",
       "      <td>0.487013</td>\n",
       "      <td>0.792683</td>\n",
       "      <td>0.148891</td>\n",
       "    </tr>\n",
       "    <tr>\n",
       "      <th>2</th>\n",
       "      <td>0.627809</td>\n",
       "      <td>0.290553</td>\n",
       "      <td>0.116243</td>\n",
       "      <td>0.003364</td>\n",
       "      <td>0.968636</td>\n",
       "      <td>0.125805</td>\n",
       "      <td>0.354138</td>\n",
       "      <td>0.697572</td>\n",
       "      <td>0.009861</td>\n",
       "      <td>0.053624</td>\n",
       "      <td>...</td>\n",
       "      <td>0.400258</td>\n",
       "      <td>0.884884</td>\n",
       "      <td>0.946408</td>\n",
       "      <td>0.459551</td>\n",
       "      <td>0.419676</td>\n",
       "      <td>0.632044</td>\n",
       "      <td>0.373949</td>\n",
       "      <td>0.905776</td>\n",
       "      <td>0.780716</td>\n",
       "      <td>0.631456</td>\n",
       "    </tr>\n",
       "    <tr>\n",
       "      <th>3</th>\n",
       "      <td>0.694459</td>\n",
       "      <td>0.343888</td>\n",
       "      <td>0.650586</td>\n",
       "      <td>0.748839</td>\n",
       "      <td>0.322372</td>\n",
       "      <td>0.042034</td>\n",
       "      <td>0.503403</td>\n",
       "      <td>0.032729</td>\n",
       "      <td>0.222319</td>\n",
       "      <td>0.946171</td>\n",
       "      <td>...</td>\n",
       "      <td>0.369267</td>\n",
       "      <td>0.288553</td>\n",
       "      <td>0.846749</td>\n",
       "      <td>0.152162</td>\n",
       "      <td>0.586667</td>\n",
       "      <td>0.824707</td>\n",
       "      <td>0.539311</td>\n",
       "      <td>0.377900</td>\n",
       "      <td>0.918627</td>\n",
       "      <td>0.050195</td>\n",
       "    </tr>\n",
       "    <tr>\n",
       "      <th>4</th>\n",
       "      <td>0.566607</td>\n",
       "      <td>0.832115</td>\n",
       "      <td>0.122953</td>\n",
       "      <td>0.308528</td>\n",
       "      <td>0.605595</td>\n",
       "      <td>0.078184</td>\n",
       "      <td>0.334522</td>\n",
       "      <td>0.790916</td>\n",
       "      <td>0.057899</td>\n",
       "      <td>0.552055</td>\n",
       "      <td>...</td>\n",
       "      <td>0.133195</td>\n",
       "      <td>0.717805</td>\n",
       "      <td>0.662922</td>\n",
       "      <td>0.651238</td>\n",
       "      <td>0.444020</td>\n",
       "      <td>0.219892</td>\n",
       "      <td>0.113260</td>\n",
       "      <td>0.887131</td>\n",
       "      <td>0.302167</td>\n",
       "      <td>0.499533</td>\n",
       "    </tr>\n",
       "    <tr>\n",
       "      <th>5</th>\n",
       "      <td>0.272614</td>\n",
       "      <td>0.758596</td>\n",
       "      <td>0.549434</td>\n",
       "      <td>0.890257</td>\n",
       "      <td>0.205141</td>\n",
       "      <td>0.952641</td>\n",
       "      <td>0.827388</td>\n",
       "      <td>0.966228</td>\n",
       "      <td>0.937854</td>\n",
       "      <td>0.499119</td>\n",
       "      <td>...</td>\n",
       "      <td>0.416756</td>\n",
       "      <td>0.623150</td>\n",
       "      <td>0.153709</td>\n",
       "      <td>0.980000</td>\n",
       "      <td>0.904560</td>\n",
       "      <td>0.894133</td>\n",
       "      <td>0.998458</td>\n",
       "      <td>0.699870</td>\n",
       "      <td>0.755263</td>\n",
       "      <td>0.424355</td>\n",
       "    </tr>\n",
       "  </tbody>\n",
       "</table>\n",
       "<p>5 rows × 100 columns</p>\n",
       "</div>"
      ],
      "text/plain": [
       "          1         2         3         4         5         6         7  \\\n",
       "1  0.554052  0.537101  0.610676  0.780027  0.282432  0.569350  0.345501   \n",
       "2  0.627809  0.290553  0.116243  0.003364  0.968636  0.125805  0.354138   \n",
       "3  0.694459  0.343888  0.650586  0.748839  0.322372  0.042034  0.503403   \n",
       "4  0.566607  0.832115  0.122953  0.308528  0.605595  0.078184  0.334522   \n",
       "5  0.272614  0.758596  0.549434  0.890257  0.205141  0.952641  0.827388   \n",
       "\n",
       "          8         9        10  ...        91        92        93        94  \\\n",
       "1  0.016182  0.991382  0.493873  ...  0.456432  0.826512  0.963538  0.258625   \n",
       "2  0.697572  0.009861  0.053624  ...  0.400258  0.884884  0.946408  0.459551   \n",
       "3  0.032729  0.222319  0.946171  ...  0.369267  0.288553  0.846749  0.152162   \n",
       "4  0.790916  0.057899  0.552055  ...  0.133195  0.717805  0.662922  0.651238   \n",
       "5  0.966228  0.937854  0.499119  ...  0.416756  0.623150  0.153709  0.980000   \n",
       "\n",
       "         95        96        97        98        99       100  \n",
       "1  0.892340  0.610641  0.292406  0.487013  0.792683  0.148891  \n",
       "2  0.419676  0.632044  0.373949  0.905776  0.780716  0.631456  \n",
       "3  0.586667  0.824707  0.539311  0.377900  0.918627  0.050195  \n",
       "4  0.444020  0.219892  0.113260  0.887131  0.302167  0.499533  \n",
       "5  0.904560  0.894133  0.998458  0.699870  0.755263  0.424355  \n",
       "\n",
       "[5 rows x 100 columns]"
      ]
     },
     "execution_count": 24,
     "metadata": {},
     "output_type": "execute_result"
    }
   ],
   "source": [
    "# Loading the dataset and nd setting the first column as the index\n",
    "file_path_rand = 'DRA Final Assignment Data RAND.csv'\n",
    "rand_data = pd.read_csv(file_path_rand, index_col=0)\n",
    "\n",
    "# Displaying the first 5 rows of the data to understand its structure\n",
    "rand_data.head(5)"
   ]
  },
  {
   "cell_type": "code",
   "execution_count": 25,
   "metadata": {},
   "outputs": [
    {
     "data": {
      "text/html": [
       "<div>\n",
       "<style scoped>\n",
       "    .dataframe tbody tr th:only-of-type {\n",
       "        vertical-align: middle;\n",
       "    }\n",
       "\n",
       "    .dataframe tbody tr th {\n",
       "        vertical-align: top;\n",
       "    }\n",
       "\n",
       "    .dataframe thead th {\n",
       "        text-align: right;\n",
       "    }\n",
       "</style>\n",
       "<table border=\"1\" class=\"dataframe\">\n",
       "  <thead>\n",
       "    <tr style=\"text-align: right;\">\n",
       "      <th></th>\n",
       "      <th>Simulation_Profit</th>\n",
       "    </tr>\n",
       "    <tr>\n",
       "      <th>Simulation_Number</th>\n",
       "      <th></th>\n",
       "    </tr>\n",
       "  </thead>\n",
       "  <tbody>\n",
       "    <tr>\n",
       "      <th>1</th>\n",
       "      <td>1500</td>\n",
       "    </tr>\n",
       "    <tr>\n",
       "      <th>2</th>\n",
       "      <td>5714</td>\n",
       "    </tr>\n",
       "    <tr>\n",
       "      <th>3</th>\n",
       "      <td>2704</td>\n",
       "    </tr>\n",
       "    <tr>\n",
       "      <th>4</th>\n",
       "      <td>3134</td>\n",
       "    </tr>\n",
       "    <tr>\n",
       "      <th>5</th>\n",
       "      <td>9412</td>\n",
       "    </tr>\n",
       "    <tr>\n",
       "      <th>...</th>\n",
       "      <td>...</td>\n",
       "    </tr>\n",
       "    <tr>\n",
       "      <th>96</th>\n",
       "      <td>4854</td>\n",
       "    </tr>\n",
       "    <tr>\n",
       "      <th>97</th>\n",
       "      <td>7864</td>\n",
       "    </tr>\n",
       "    <tr>\n",
       "      <th>98</th>\n",
       "      <td>2876</td>\n",
       "    </tr>\n",
       "    <tr>\n",
       "      <th>99</th>\n",
       "      <td>2102</td>\n",
       "    </tr>\n",
       "    <tr>\n",
       "      <th>100</th>\n",
       "      <td>5456</td>\n",
       "    </tr>\n",
       "  </tbody>\n",
       "</table>\n",
       "<p>100 rows × 1 columns</p>\n",
       "</div>"
      ],
      "text/plain": [
       "                   Simulation_Profit\n",
       "Simulation_Number                   \n",
       "1                               1500\n",
       "2                               5714\n",
       "3                               2704\n",
       "4                               3134\n",
       "5                               9412\n",
       "...                              ...\n",
       "96                              4854\n",
       "97                              7864\n",
       "98                              2876\n",
       "99                              2102\n",
       "100                             5456\n",
       "\n",
       "[100 rows x 1 columns]"
      ]
     },
     "execution_count": 25,
     "metadata": {},
     "output_type": "execute_result"
    }
   ],
   "source": [
    "# Parameters\n",
    "p = 0.5279  # estimated probability of a successful sale (from previous calculation - see 1.10)\n",
    "price_per_sale = 86  # Price of each sale in dollars (see 1.09)\n",
    "cost_per_lead = 45  # Cost per lead in dollars (see 1.09)\n",
    "total_leads = 10000  # total number of leads\n",
    "\n",
    "# Convert the RAND data to sales (1 if value < p, otherwise 0)\n",
    "# applying the condition across the entire dataset (if value < p, count as sale).\n",
    "sales_simulations = rand_data.applymap(lambda x: 1 if x < p else 0)\n",
    "\n",
    "# Calculate the total number of sales for each simulation\n",
    "total_sales_simulation = sales_simulations.sum(axis=0)\n",
    "\n",
    "# Calculate the profit for each simulation\n",
    "profit_simulation = (total_sales_simulation * price_per_sale) - (total_leads * cost_per_lead)\n",
    "\n",
    "# Create a DataFrame with simulation numbers (1 to 100) and corresponding profits\n",
    "simulation_results = pd.DataFrame({\n",
    "    'Simulation_Number': range(1, 101),\n",
    "    'Simulation_Profit': profit_simulation.values\n",
    "})\n",
    "\n",
    "# Set 'Simulation_Number' as the index for the final result DataFrame\n",
    "simulation_results.set_index('Simulation_Number', inplace=True)\n",
    "\n",
    "# Display the final DataFrame with simulation numbers and profits\n",
    "simulation_results"
   ]
  },
  {
   "cell_type": "code",
   "execution_count": 26,
   "metadata": {
    "scrolled": false
   },
   "outputs": [
    {
     "data": {
      "image/png": "[encoded data removed]",
      "text/plain": [
       "<Figure size 720x432 with 1 Axes>"
      ]
     },
     "metadata": {
      "needs_background": "light"
     },
     "output_type": "display_data"
    }
   ],
   "source": [
    "# Ploting the simulation results \n",
    "# and comparing them with the actual binomial and normal distribution approximations (see 1.13)\n",
    "\n",
    "# Generate x-axis values for sales (same range as before)\n",
    "x_values = np.arange(4900, 5551)\n",
    "\n",
    "# Parameters from previous calculations\n",
    "n = 10000  # Total number of leads\n",
    "p = 0.5279  # Estimated probability of a successful sale\n",
    "mean = n * p  # Mean for normal approximation - expected number of sales\n",
    "variance = n * p * (1 - p)  # Variance for normal approximation\n",
    "std_dev = variance ** 0.5  # Standard deviation - square root of variance\n",
    "\n",
    "# Calculating binomial and normal probabilities (as previously calculated in 1.13)\n",
    "binom_probs = binom.pmf(x_values, n, p)\n",
    "normal_probs = norm.pdf(x_values, mean, std_dev)\n",
    "\n",
    "# Plot the binomial distribution as bars (for comparison)\n",
    "plt.figure(figsize=(10, 6))\n",
    "plt.bar(x_values, binom_probs, alpha=0.6, label=\"Binomial Distribution\", color=\"blue\")\n",
    "\n",
    "# Plot the normal approximation as a smooth curve\n",
    "plt.plot(x_values, normal_probs, label=\"Normal Approximation\", color=\"red\")\n",
    "\n",
    "# Plot the simulation results (total_sales_simulation)\n",
    "# Create a histogram of the simulated total sales, which represents the number of sales from each of the 100 simulations.\n",
    "# The histogram is normalized using density=True so that it represents a probability distribution.\n",
    "plt.hist(total_sales_simulation, bins=30, density=True, alpha=0.5, label=\"Simulated Results\", color=\"green\")\n",
    "\n",
    "# Add labels, title, and legend\n",
    "plt.title(\"Binomial Distribution vs. Normal Approximation vs. Simulated Results\")\n",
    "plt.xlabel(\"Number of Sales\")\n",
    "plt.ylabel(\"Probability\")\n",
    "plt.legend()\n",
    "\n",
    "# Show the plot\n",
    "plt.show()\n",
    "\n"
   ]
  },
  {
   "cell_type": "markdown",
   "metadata": {},
   "source": [
    "### Key Observations:\n",
    "- The green bars represent the distribution of the simulated sales based on the 100 given simulations.\n",
    "- These bars follow the general shape of the binomial distribution and the normal approximation of actual results. However, there are some peaks and gaps, which are due to the limited number of simulations (100 simulations), resulting in some variability.\n",
    "- The slight difference between the Normal Approximation(Red Line) and the green bars, especially at the peaks and tails, highlights where the normal approximation smooths over the discrete nature of the binomial distribution."
   ]
  },
  {
   "cell_type": "markdown",
   "metadata": {},
   "source": [
    "## 2.02 <a id=\"simulation_task_2\">Simulation: task 2</a> <font size='3'>[[Table of contents🔝]](#index)]<font size>\n",
    "#### Estimate the probability of the profit being negative\n",
    "    \n",
    "Guidance:<br>\n",
    "- You are performing 100 simulations\n",
    "- This means that you are generating 100 possible scenarios of profits\n",
    "- For each simulation, count the number of sales (out of 10,000), and calculate the profit for this amount of sales (using the profit formula from before)\n",
    "- Once you have calculated 100 profits, count the proportion of negative profits (out of 100)  \n",
    "    "
   ]
  },
  {
   "cell_type": "code",
   "execution_count": 27,
   "metadata": {},
   "outputs": [
    {
     "name": "stdout",
     "output_type": "stream",
     "text": [
      "Probability of negative profit: 0.16\n"
     ]
    }
   ],
   "source": [
    "# Count how many of the profits are negative:\n",
    "# 1) Filtering dataframe based on boolean mask Simulation_Profit < 0\n",
    "# 2) returning the number rows of filtered dataframe\n",
    "negative_profits_count = simulation_results[simulation_results['Simulation_Profit'] < 0].shape[0]\n",
    "\n",
    "# Calculate the probability (proportion of negative profits out of 100 simulations)\n",
    "probability_negative_profit = negative_profits_count / 100\n",
    "\n",
    "# Display the result\n",
    "print(f\"Probability of negative profit: {probability_negative_profit:.2f}\")"
   ]
  },
  {
   "cell_type": "markdown",
   "metadata": {},
   "source": [
    "### Insights\n",
    "- Based on the result from the 100 simulations, the profit was negative in 16% of those simulations.\n",
    "- The simulated probability of negative profit (16%) is slightly lower than the exact binomial probability (17.58%, see 1.11)\n",
    "- This small difference (1.58%) is likely due to the limited number of simulations (100), which introduces variability and may not fully capture the exact binomial distribution."
   ]
  },
  {
   "cell_type": "markdown",
   "metadata": {},
   "source": [
    "## 2.03 <a id=\"simulation_task_3\">Simulation: task 3</a> <font size='3'>[[Table of contents🔝]](#index)]<font size>\n",
    "    \n",
    "#### Comment on your result in relation to your answer using the Binomial and Normal probabilities from the previous section\n",
    "    \n",
    "Guidance:<br>\n",
    "- Are your answers close? If not, what could you recommend that would make the simulation more accurate?"
   ]
  },
  {
   "cell_type": "markdown",
   "metadata": {},
   "source": [
    "### Answer:\n",
    "- **Accuracy**: The simulation results are reasonably accurate, as they align closely with the binomial distribution. The slight discrepancies are due to the number of simulations (100), which introduces some variability. Running more simulations (e.g., 1,000 or more) would likely result in an even closer match.\n",
    "- **Recommendation**: To increase the accuracy of the simulation and reduce the variability seen in the simulation results could be recommended following:\n",
    "    - Increasing the number of simulations to better capture the underlying binomial distribution.\n",
    "    - Considering using a continuity correction for the normal approximation to refine the comparison further."
   ]
  },
  {
   "cell_type": "markdown",
   "metadata": {},
   "source": [
    "# 3. <a id=\"q_3\">Question 3</a> <font size='3'>[[Table of contents🔝]](#index)]<font size>\n",
    "    \n",
    "Use the sheet named “AB TESTING” for the following questions:\n",
    "    \n",
    "#### Time series & A/B Testing\n",
    "    \n",
    "The company decided to launch a media campaign to increase leads:\n",
    "- It launched an extensive media campaign during January and February of 2022\n",
    "- It tracked daily sales leads for 4 months, to assess the prolonging effect of the campaign    \n",
    "    "
   ]
  },
  {
   "cell_type": "markdown",
   "metadata": {},
   "source": [
    "## 3.01 <a id=\"time-series_&_ab_testing_task_1\">Time series & A/B Testing: task 1</a> <font size='3'>[[Table of contents🔝]](#index)]<font size>\n",
    "    \n",
    "#### Plot the daily sales leads over time\n",
    "    \n",
    "Guidance:<br>\n",
    "- X-axis should be days\n",
    "- Y-axis should be count of daily leads    "
   ]
  },
  {
   "cell_type": "code",
   "execution_count": 28,
   "metadata": {},
   "outputs": [
    {
     "data": {
      "text/html": [
       "<div>\n",
       "<style scoped>\n",
       "    .dataframe tbody tr th:only-of-type {\n",
       "        vertical-align: middle;\n",
       "    }\n",
       "\n",
       "    .dataframe tbody tr th {\n",
       "        vertical-align: top;\n",
       "    }\n",
       "\n",
       "    .dataframe thead th {\n",
       "        text-align: right;\n",
       "    }\n",
       "</style>\n",
       "<table border=\"1\" class=\"dataframe\">\n",
       "  <thead>\n",
       "    <tr style=\"text-align: right;\">\n",
       "      <th></th>\n",
       "      <th>DATE</th>\n",
       "      <th>LEADS</th>\n",
       "      <th>TEAM A - FEEDBACK</th>\n",
       "      <th>TEAM B - NO FEEDBACK</th>\n",
       "    </tr>\n",
       "  </thead>\n",
       "  <tbody>\n",
       "    <tr>\n",
       "      <th>0</th>\n",
       "      <td>2022-01-01</td>\n",
       "      <td>95</td>\n",
       "      <td>0.521316</td>\n",
       "      <td>0.524258</td>\n",
       "    </tr>\n",
       "    <tr>\n",
       "      <th>1</th>\n",
       "      <td>2022-01-02</td>\n",
       "      <td>124</td>\n",
       "      <td>0.523353</td>\n",
       "      <td>0.528616</td>\n",
       "    </tr>\n",
       "    <tr>\n",
       "      <th>2</th>\n",
       "      <td>2022-01-03</td>\n",
       "      <td>101</td>\n",
       "      <td>0.518230</td>\n",
       "      <td>0.517468</td>\n",
       "    </tr>\n",
       "    <tr>\n",
       "      <th>3</th>\n",
       "      <td>2022-01-04</td>\n",
       "      <td>104</td>\n",
       "      <td>0.514388</td>\n",
       "      <td>0.512477</td>\n",
       "    </tr>\n",
       "    <tr>\n",
       "      <th>4</th>\n",
       "      <td>2022-01-05</td>\n",
       "      <td>71</td>\n",
       "      <td>0.516857</td>\n",
       "      <td>0.521855</td>\n",
       "    </tr>\n",
       "  </tbody>\n",
       "</table>\n",
       "</div>"
      ],
      "text/plain": [
       "        DATE  LEADS  TEAM A - FEEDBACK  TEAM B - NO FEEDBACK\n",
       "0 2022-01-01     95           0.521316              0.524258\n",
       "1 2022-01-02    124           0.523353              0.528616\n",
       "2 2022-01-03    101           0.518230              0.517468\n",
       "3 2022-01-04    104           0.514388              0.512477\n",
       "4 2022-01-05     71           0.516857              0.521855"
      ]
     },
     "execution_count": 28,
     "metadata": {},
     "output_type": "execute_result"
    }
   ],
   "source": [
    "# Loading the AB Testing data\n",
    "# And ensuring that the dates are correctly parsed\n",
    "file_path_ab_testing = 'DRA_Final_Assignment_Data_AB_testing.csv'\n",
    "ab_testing_data = pd.read_csv(file_path_ab_testing, parse_dates=['DATE'], dayfirst=True)\n",
    "\n",
    "# Display the first few rows to understand the structure\n",
    "ab_testing_data.head()"
   ]
  },
  {
   "cell_type": "code",
   "execution_count": 29,
   "metadata": {},
   "outputs": [],
   "source": [
    "# explicitly convert \"DATE\" column in datetime type\n",
    "ab_testing_data['DATE'] = pd.to_datetime(ab_testing_data['DATE'], format='%d/%m/%Y')"
   ]
  },
  {
   "cell_type": "code",
   "execution_count": 30,
   "metadata": {},
   "outputs": [
    {
     "name": "stdout",
     "output_type": "stream",
     "text": [
      "datetime64[ns]\n"
     ]
    }
   ],
   "source": [
    "# checking if the \"DATE\" column is actually of datetime type\n",
    "print(ab_testing_data['DATE'].dtype)"
   ]
  },
  {
   "cell_type": "code",
   "execution_count": 31,
   "metadata": {},
   "outputs": [
    {
     "data": {
      "image/png": "[encoded data removed]",
      "text/plain": [
       "<Figure size 720x432 with 1 Axes>"
      ]
     },
     "metadata": {
      "needs_background": "light"
     },
     "output_type": "display_data"
    }
   ],
   "source": [
    "# Reformatting the date display on the x-axis\n",
    "import matplotlib.dates as mdates\n",
    "\n",
    "# Plotting the data\n",
    "plt.figure(figsize=(10, 6))\n",
    "plt.plot(ab_testing_data['DATE'], ab_testing_data['LEADS'], marker='o', linestyle='-', color='blue')\n",
    "\n",
    "# Set labels and title\n",
    "plt.title('Daily Sales Leads Over Time')\n",
    "plt.xlabel('Date')\n",
    "plt.ylabel('Number of Leads')\n",
    "\n",
    "# Format x-axis for date display and force weekly interval\n",
    "plt.gca().xaxis.set_major_formatter(mdates.DateFormatter('%d/%m/%y'))\n",
    "# Set the interval to 1 to force weekly labels\n",
    "plt.gca().xaxis.set_major_locator(mdates.WeekdayLocator(interval=1))  \n",
    "plt.gcf().autofmt_xdate(rotation=45)\n",
    "\n",
    "# Add grid\n",
    "plt.grid(True)\n",
    "\n",
    "# Show plot\n",
    "plt.show()"
   ]
  },
  {
   "cell_type": "code",
   "execution_count": 32,
   "metadata": {
    "scrolled": false
   },
   "outputs": [
    {
     "data": {
      "image/png": "[encoded data removed]",
      "text/plain": [
       "<Figure size 720x432 with 1 Axes>"
      ]
     },
     "metadata": {
      "needs_background": "light"
     },
     "output_type": "display_data"
    }
   ],
   "source": [
    "# Adding a 'Day of Week' column to check for weekly patterns in leads\n",
    "ab_testing_data['Day_of_Week'] = ab_testing_data['DATE'].dt.day_name()\n",
    "\n",
    "# Grouping data by the day of the week to check for the pattern\n",
    "leads_by_day = ab_testing_data.groupby('Day_of_Week')['LEADS'].mean()\n",
    "\n",
    "# Sorting days of the week in order for plotting (Sunday to Saturday)\n",
    "days_order = ['Sunday', 'Monday', 'Tuesday', 'Wednesday', 'Thursday', 'Friday', 'Saturday']\n",
    "leads_by_day = leads_by_day.reindex(days_order)\n",
    "\n",
    "# Plotting the average number of leads for each day of the week\n",
    "plt.figure(figsize=(10, 6))\n",
    "leads_by_day.plot(kind='bar', color='blue')\n",
    "\n",
    "# Add labels and title\n",
    "plt.title('Average Number of Leads by Day of the Week')\n",
    "plt.xlabel('Day of the Week')\n",
    "plt.ylabel('Average Number of Leads')\n",
    "plt.xticks(rotation=45)\n",
    "plt.grid(True)\n",
    "\n",
    "# Show the plot\n",
    "plt.show()"
   ]
  },
  {
   "cell_type": "markdown",
   "metadata": {},
   "source": [
    "## 3.02 <a id=\"time-series_&_ab_testing_task_2\">Time series & A/B Testing: task 2</a> <font size='3'>[[Table of contents🔝]](#index)]<font size>\n",
    "    \n",
    "#### Comment on the existence of:\n",
    "- **Trends**\n",
    "- **Seasonality**\n",
    "- **Random variability**\n",
    "- **Irregularities & Outliers**\n",
    "    \n",
    "Guidance:<br>\n",
    "- Trend – overall direction of the data over time (could have more than one trend)\n",
    "- Seasonality – a recurring pattern of predictable length\n",
    "- Random variability – random deviations from the “perfect” model\n",
    "- Irregularities & outliers – extreme or erroneous observations    "
   ]
  },
  {
   "cell_type": "markdown",
   "metadata": {},
   "source": [
    "### Observations\n",
    "1. **Trends:**\n",
    "    - The Daily Sales Leads Over Time plot shows some fluctuations, but there is a **slight downward trend** from the peak leads in February through to the end of April: the general level of daily sales leads appears to be decreasing over time.\n",
    "    - There are **multiple smaller trends**, such as spikes in January and February, possibly due to the media campaign, followed by a gradual decline.\n",
    "\n",
    "2. **Seasonality:**\n",
    "    - The Average Number of Leads by Day of the Week plot clearly shows a **weekly seasonality pattern**: There is a significant **drop in leads every Thursday and Friday, followed by recovery on Saturday**. Leads are relatively stable from Monday to Wednesday. This suggests that the business or consumer behavior may be influenced by the day of the week, with potential drops in sales towards the end of the workweek.\n",
    "    \n",
    "\n",
    "3. **Random Variability:**\n",
    "    - **Random deviations** are visible in both plots. The daily sales leads have day-to-day fluctuations that do not follow a clear predictable pattern, especially within weeks. These variations may be due to external factors or random noise in the data. The second plot also shows some level of random variability in the average number of leads for each day of the week, though the pattern is more consistent.\n",
    "    \n",
    "    \n",
    "4. **Irregularities & Outliers:**\n",
    "    - There are some **clear outliers** where the number of leads spikes significantly (e.g., peaks around beginning and mid-February), as well as sudden drops to low numbers. These outliers might be due to special promotions, system issues, or other events not regularly occurring."
   ]
  },
  {
   "cell_type": "markdown",
   "metadata": {},
   "source": [
    "## 3.03 <a id=\"time-series_&_ab_testing_task_3\">Time series & A/B Testing: task 3</a> <font size='3'>[[Table of contents🔝]](#index)]<font size>\n",
    "    \n",
    "#### Summarize your conclusions regarding the success of the media campaign\n",
    "    \n",
    "Guidance:<br>\n",
    "- Has the campaign been successful over time? Are there seasonal effects that should be disregarded or taken into account?"
   ]
  },
  {
   "cell_type": "markdown",
   "metadata": {},
   "source": [
    "### Conclusion:\n",
    "- The **media campaign was initially successful**, as it generated significant spikes in leads during January and February.\n",
    "- However, the **sustained impact was limited**, and the number of leads gradually declined after the campaign period.\n",
    "- The **weekly seasonality** (Thursday and Friday drops) should be considered in future evaluations to avoid misinterpreting natural fluctuations as campaign-related issues.\n",
    "- To maintain or improve lead generation, the company may need to **supplement the campaign with additional strategies** or new promotions to extend its effects over a longer period."
   ]
  },
  {
   "cell_type": "markdown",
   "metadata": {},
   "source": [
    "## 3.04 <a id=\"time-series_&_ab_testing_task_4\">Time series & A/B Testing: task 4</a> <font size='3'>[[Table of contents🔝]](#index)]<font size>\n",
    "    \n",
    "The company has also decided to improve sales rates by having sales managers review the\n",
    "sales team’s performance every 2 weeks, starting January 2022.<br>\n",
    "    \n",
    "The managers will listen to past recorded calls with potential customers, give feedback and\n",
    "present their conclusions regarding possible improvements in the sales process to the staff\n",
    "every 2 weeks.<br>\n",
    "    \n",
    "In order to test the effect of the potential improvement in sales practices the company has\n",
    "decided to conduct an A/B test, where half of the staff will receive feedback and the other\n",
    "half will not.<br>\n",
    "    \n",
    "#### Exclude days where the company is not working and there are no sales\n",
    "    \n",
    "Guidance:<br>\n",
    "- Days with no sales are the one where the LEADS column is 0    "
   ]
  },
  {
   "cell_type": "code",
   "execution_count": 33,
   "metadata": {},
   "outputs": [
    {
     "name": "stdout",
     "output_type": "stream",
     "text": [
      "         DATE  LEADS  TEAM A - FEEDBACK  TEAM B - NO FEEDBACK Day_of_Week\n",
      "0  2022-01-01     95           0.521316              0.524258    Saturday\n",
      "1  2022-01-02    124           0.523353              0.528616      Sunday\n",
      "2  2022-01-03    101           0.518230              0.517468      Monday\n",
      "3  2022-01-04    104           0.514388              0.512477     Tuesday\n",
      "4  2022-01-05     71           0.516857              0.521855   Wednesday\n",
      "5  2022-01-06     46           0.520728              0.521125    Thursday\n",
      "7  2022-01-08    124           0.523307              0.520132    Saturday\n",
      "8  2022-01-09    111           0.518937              0.525045      Sunday\n",
      "9  2022-01-10    129           0.524786              0.514266      Monday\n",
      "10 2022-01-11    100           0.524801              0.516510     Tuesday\n"
     ]
    }
   ],
   "source": [
    "# Exclude days where the LEADS column is 0 (no sales)\n",
    "ab_testing_filtered = ab_testing_data[ab_testing_data['LEADS'] != 0]\n",
    "\n",
    "# Display the filtered data to ensure that days with no sales are excluded\n",
    "print(ab_testing_filtered.head(10))"
   ]
  },
  {
   "cell_type": "code",
   "execution_count": 34,
   "metadata": {},
   "outputs": [],
   "source": [
    "# Saving the ab_testing_filtered DataFrame to a file (without the index column)\n",
    "ab_testing_filtered.to_csv('ab_testing_filtered.csv', index=False)"
   ]
  },
  {
   "cell_type": "markdown",
   "metadata": {},
   "source": [
    "## 3.05 <a id=\"time-series_&_ab_testing_task_5\">Time series & A/B Testing: task 5</a> <font size='3'>[[Table of contents🔝]](#index)]<font size>\n",
    "    \n",
    "#### Suggest a way of selecting which sales representative goes in which group. What biases is the company trying to prevent?\n",
    "  \n",
    "Guidance:<br>\n",
    "- Think what makes a good experiment, you may give examples of “bad” ways of performing this experiment to illustrate your point further"
   ]
  },
  {
   "cell_type": "markdown",
   "metadata": {},
   "source": [
    "### Answer\n",
    "\n",
    "- **Recommended Approach:**<br>\n",
    "    To prevent biases and ensure a valid A/B test, randomly assigning sales representatives is the best approach. This will help ensure that the groups are comparable, and any differences observed in sales performance are more likely due to the feedback intervention rather than external factors.\n",
    "\n",
    "- **Biases the Company Is Trying to Prevent:**<br>\n",
    "    - **Performance Bias:**\n",
    "        Assigning the most experienced or highest-performing salespeople to the group receiving feedback would lead to skewed results. In this case, the improvement in sales could be attributed to the fact that the more skilled representatives were already better, regardless of the feedback intervention.\n",
    "    - **Experience Bias:**\n",
    "        Placing only new hires in the feedback group and experienced hires in the no-feedback group would not allow the company to properly compare the effects of feedback. The differences in sales results would likely be driven by experience rather than the feedback intervention.\n",
    "    - **Geographic Bias:**\n",
    "        Placing all sales reps from high-sales regions in the feedback group and others in less active regions in the no-feedback group would confound the results, as regional market conditions, rather than the feedback intervention, could drive differences."
   ]
  },
  {
   "cell_type": "markdown",
   "metadata": {},
   "source": [
    "## 3.06 <a id=\"time-series_&_ab_testing_task_6\">Time series & A/B Testing: task 6</a> <font size='3'>[[Table of contents🔝]](#index)]<font size>\n",
    "    \n",
    "#### Measure the differences in sales performance during the A/B test:\n",
    "- **By calculating means for both groups**\n",
    "- **By plotting the sales rates over time**\n",
    "- **By suggesting a suitable statistical test** \n",
    "    \n",
    "Guidance:<br>\n",
    "- Calculate the overall mean sales rate or the mean sales rate every two weeks (whichever you prefer)\n",
    "- Plot the sales rate over time and visually analyse differences\n",
    "- Comment which statistical test would be appropriate to measure the differences in mean sales rate between the two groups (you do not have to perform the test)"
   ]
  },
  {
   "cell_type": "code",
   "execution_count": 35,
   "metadata": {},
   "outputs": [
    {
     "name": "stdout",
     "output_type": "stream",
     "text": [
      "==================================================\n",
      "Overall Mean Sales\n",
      "==================================================\n",
      "TEAM A - FEEDBACK: 0.54\n",
      "TEAM B - NO FEEDBACK: 0.52\n",
      "==================================================\n",
      "2-Weeks Mean Sales Rate\n",
      "==================================================\n",
      "            TEAM A - FEEDBACK  TEAM B - NO FEEDBACK\n",
      "DATE                                               \n",
      "2022-01-02           0.522334              0.526437\n",
      "2022-01-16           0.521989              0.519718\n",
      "2022-01-30           0.525550              0.519943\n",
      "2022-02-13           0.530799              0.522657\n",
      "2022-02-27           0.533275              0.519894\n",
      "2022-03-13           0.538332              0.520101\n",
      "2022-03-27           0.549257              0.520950\n",
      "2022-04-10           0.549829              0.519977\n",
      "2022-04-24           0.549582              0.521028\n",
      "2022-05-08           0.549746              0.520120\n"
     ]
    }
   ],
   "source": [
    "# Resampling(aggregating) data by every two weeks and calculating the mean sales rate \n",
    "# in each two-week interval for both groups\n",
    "sales_rate_2weeks = ab_testing_filtered.resample('2W', on='DATE').mean()[['TEAM A - FEEDBACK', 'TEAM B - NO FEEDBACK']]\n",
    "\n",
    "# Calculating the overall mean sales rate for both groups\n",
    "overall_mean_team_a = ab_testing_filtered['TEAM A - FEEDBACK'].mean()\n",
    "overall_mean_team_b = ab_testing_filtered['TEAM B - NO FEEDBACK'].mean()\n",
    "\n",
    "overall_mean_team_a, overall_mean_team_b\n",
    "\n",
    "# Display the result\n",
    "print('='*50)\n",
    "print('Overall Mean Sales')\n",
    "print('='*50)\n",
    "print(f\"TEAM A - FEEDBACK: {overall_mean_team_a:.2f}\")\n",
    "print(f\"TEAM B - NO FEEDBACK: {overall_mean_team_b:.2f}\")      \n",
    "print('='*50)\n",
    "print('2-Weeks Mean Sales Rate')\n",
    "print('='*50)\n",
    "print(sales_rate_2weeks)      "
   ]
  },
  {
   "cell_type": "code",
   "execution_count": 36,
   "metadata": {},
   "outputs": [
    {
     "data": {
      "image/png": "[encoded data removed]",
      "text/plain": [
       "<Figure size 720x432 with 1 Axes>"
      ]
     },
     "metadata": {
      "needs_background": "light"
     },
     "output_type": "display_data"
    }
   ],
   "source": [
    "# Plotting the 2-weeks mean sales rate for both teams\n",
    "plt.figure(figsize=(10, 6))\n",
    "plt.plot(sales_rate_2weeks.index, sales_rate_2weeks['TEAM A - FEEDBACK'], marker='o', linestyle='-', \n",
    "         color='blue', label='TEAM A - FEEDBACK')\n",
    "plt.plot(sales_rate_2weeks.index, sales_rate_2weeks['TEAM B - NO FEEDBACK'], marker='o', linestyle='-', \n",
    "         color='green', label='TEAM B - NO FEEDBACK')\n",
    "\n",
    "# Adding labels, title, and legend\n",
    "plt.title('2-Weeks Mean Sales Rate Over Time')\n",
    "plt.xlabel('Date')\n",
    "plt.ylabel('Mean Sales Rate')\n",
    "plt.legend()\n",
    "\n",
    "# Formatting the date display to show each plotted point (every two weeks)\n",
    "plt.gca().xaxis.set_major_formatter(mdates.DateFormatter('%d/%m/%y'))\n",
    "# Setting interval for date labels to match every two weeks\n",
    "plt.gca().xaxis.set_major_locator(mdates.WeekdayLocator(interval=2))  \n",
    "# Rotate date labels for better readability\n",
    "plt.gcf().autofmt_xdate(rotation=45)\n",
    "\n",
    "# Add grid\n",
    "plt.grid(True)\n",
    "\n",
    "# Show plot\n",
    "plt.show()"
   ]
  },
  {
   "cell_type": "markdown",
   "metadata": {},
   "source": [
    "### Observations:\n",
    "\n",
    "The plot shows a clear difference in performance between the two groups over time:\n",
    "- **Team A - Feedback** shows a consistent upward trend in mean sales rate, indicating that the feedback process has had a positive impact on their performance.\n",
    "- **Team B - No Feedback**, on the other hand, has a relatively flat trend, indicating no significant improvement in performance over the same period."
   ]
  },
  {
   "cell_type": "markdown",
   "metadata": {},
   "source": [
    "### Appropriate Statistical Test:\n",
    "To measure the differences in the mean sales rates between the two groups, could be performed a **two-sample t-test (independent t-test)** to compare the means of two independent groups (Team A and Team B).\n",
    "\n",
    "**Assumptions:**\n",
    "The sales rates in both groups should approximately **follow a normal distribution** (this assumption could be tested using normality tests like the Shapiro-Wilk test).\n",
    "**Variances in both groups should be equal** (this assumption could be tested with Levene’s test or Bartlett’s test).\n",
    "\n",
    "**If these assumptions are violated**, a non-parametric alternative such as the **Mann-Whitney U test (Wilcoxon rank-sum test)** would be more appropriate, as it doesn't assume normality or equal variances."
   ]
  }
 ],
 "metadata": {
  "kernelspec": {
   "display_name": "Python 3 (ipykernel)",
   "language": "python",
   "name": "python3"
  },
  "language_info": {
   "codemirror_mode": {
    "name": "ipython",
    "version": 3
   },
   "file_extension": ".py",
   "mimetype": "text/x-python",
   "name": "python",
   "nbconvert_exporter": "python",
   "pygments_lexer": "ipython3",
   "version": "3.9.7"
  }
 },
 "nbformat": 4,
 "nbformat_minor": 4
}
